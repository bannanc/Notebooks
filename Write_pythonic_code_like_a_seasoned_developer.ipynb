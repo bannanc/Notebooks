{
 "cells": [
  {
   "cell_type": "code",
   "execution_count": 2,
   "metadata": {
    "collapsed": true
   },
   "outputs": [],
   "source": [
    "# Import things that might be useful\n",
    "import collections\n",
    "import datetime"
   ]
  },
  {
   "cell_type": "markdown",
   "metadata": {},
   "source": [
    "# Welcome to the course\n",
    "---------------\n",
    "### Introduction\n",
    "* goal is to work naturally with the languages or write idiomatic code (pythonic)\n",
    "* more readable to you and experienced developers \n",
    "* generally this will be simpler and cleaner than the simplest code in other languages\n",
    "\n",
    "### Topics covered\n",
    "* PEP 8\n",
    "* Dictionaries - interesting use cases and how to leverage them \n",
    "* Collections, comprehensions, and generators\n",
    "* Functions and Methods \n",
    "    * lambda expressions for inline methods\n",
    "* packages and modules - pythonic conventions for importing libaries\n",
    "* Classes and objects\n",
    "* Pythonic loops - powerful ways of how to use loops\n",
    "    * when and how to use them\n",
    "* Tuples - package up data and pass it around\n",
    "* Python for Humans \n",
    "    * there’s probably already a package out there for how to do what you’re doing\n",
    "    * looking at PyPI\n",
    "\n",
    "### Github: \n",
    "https://github.com/mikeckennedy/write-pythonic-code-demos\n",
    "\n",
    "### Brand New? \n",
    "Look at Python Jumpstart by building 10 apps\n",
    "\n",
    "### Python 3 - setup and tools\n",
    "* (they will talk about differences between 2 and 3 when it is applicable)\n",
    "* No more support of python2 in 2020\n",
    "* pycon - developers have said there will be no more versions of python2\n",
    "* He uses pycharm as an editor"
   ]
  },
  {
   "cell_type": "markdown",
   "metadata": {},
   "source": [
    "--------\n",
    "# PEP 8 \n",
    "--------\n",
    "### Who decides what is pythonic"
   ]
  },
  {
   "cell_type": "code",
   "execution_count": 3,
   "metadata": {},
   "outputs": [
    {
     "name": "stdout",
     "output_type": "stream",
     "text": [
      "The Zen of Python, by Tim Peters\n",
      "\n",
      "Beautiful is better than ugly.\n",
      "Explicit is better than implicit.\n",
      "Simple is better than complex.\n",
      "Complex is better than complicated.\n",
      "Flat is better than nested.\n",
      "Sparse is better than dense.\n",
      "Readability counts.\n",
      "Special cases aren't special enough to break the rules.\n",
      "Although practicality beats purity.\n",
      "Errors should never pass silently.\n",
      "Unless explicitly silenced.\n",
      "In the face of ambiguity, refuse the temptation to guess.\n",
      "There should be one-- and preferably only one --obvious way to do it.\n",
      "Although that way may not be obvious at first unless you're Dutch.\n",
      "Now is better than never.\n",
      "Although never is often better than *right* now.\n",
      "If the implementation is hard to explain, it's a bad idea.\n",
      "If the implementation is easy to explain, it may be a good idea.\n",
      "Namespaces are one honking great idea -- let's do more of those!\n"
     ]
    }
   ],
   "source": [
    "# Generate Zen of Python\n",
    "import this"
   ]
  },
  {
   "cell_type": "markdown",
   "metadata": {},
   "source": [
    "### Import statements\n",
    "* python enhancement proposal 8 (style guide)\n",
    "* imports should be at the top\n",
    "* import one module per line\n",
    "    * **BAD:** `import sys, os, multiprocessing`\n",
    "* Don’t use from os import * since it will overide other names\n",
    "* You can import multiple functions from the same module\n",
    "    * `from os import path, chmod, chown`\n",
    "* Order/Grouping of imports\n",
    "    1. Standard libraries\n",
    "    2. Related third party imports\n",
    "    3. local applications/library specifications\n",
    "    \n",
    "### Code layout and structure\n",
    "\n",
    "* 4 spaces, not tabs (most text editors you can set to do this)\n",
    "* two blank lines between all functions\n",
    "    * In a class you should have 1 blank lines between functions\n",
    "* one blank line to group things\n",
    "\n",
    "### Documentation strings\n",
    "* Doc string are in “”” on the first line of a function\n",
    "    * tutorial says to use `:param a1: describe parameter`\n",
    "    * I tried this in interactive python and it didn’t do anything differently so I’m going to stick to my (well John’s) current layout\n",
    "* For all public functions, modules, classes, methods\n",
    "    * optional for private classes/functions/ etc\n",
    "    \n",
    "### Naming Conventions\n",
    "* Names should be descriptive\n",
    "* Martin Fowlers - refactoring ideas and “code smells” \n",
    "    * Things that aren’t “broken” but seem sort of off. \n",
    "    * Comments are deodorant for code smells \n",
    "* Modules:\n",
    "    * short_all_lowercase_names\n",
    "* Constants\n",
    "    * ALL UPPERCASE\n",
    "* Classes\n",
    "    * CapWord names\n",
    "* Variables and args\n",
    "    * all_lower_case\n",
    "* Functions\n",
    "    * all_lowercase\n",
    "* Exception: \n",
    "    * CapWordError\n",
    "    * Always end in Error\n",
    "    \n",
    "### Truthiness and boolean statements (fundamental)\n",
    "* Ability to test things"
   ]
  },
  {
   "cell_type": "code",
   "execution_count": 4,
   "metadata": {},
   "outputs": [
    {
     "name": "stdout",
     "output_type": "stream",
     "text": [
      "FALSE<— 'False'\n",
      "FALSE<— '[]'\n",
      "FALSE<— '{}'\n",
      "FALSE<— ''\n",
      "FALSE<— '0'\n",
      "FALSE<— '0.0'\n",
      "FALSE<— 'None'\n",
      "----------\n",
      "[] == False:\n",
      "FALSE<— 'False'\n",
      "not []:\n",
      "TRUE<— 'True'\n"
     ]
    }
   ],
   "source": [
    "# Define a method to print True if things are true\n",
    "def check_truthiness(exp):\n",
    "    msg = \"'%s'\" % str(exp)\n",
    "    print( (\"TRUE\" if exp else \"FALSE\") + \"<— \" + msg)\n",
    "\n",
    "# Show all of these are \"False\" items:\n",
    "for item in [False, [], {}, \"\", 0, 0.0, None]:\n",
    "    check_truthiness(item)\n",
    "\n",
    "# This is different from comparisons\n",
    "print('-'*10)\n",
    "print(\"[] == False:\")\n",
    "check_truthiness([] == False)\n",
    "print(\"not []:\")\n",
    "check_truthiness(not [])"
   ]
  },
  {
   "cell_type": "markdown",
   "metadata": {},
   "source": [
    "* pythonic style - leverage their implicit truthiness\n",
    "    * you don’t need to check len(a) == 0 for example\n",
    "\n",
    "### Testing for None\n",
    "* Testing a singleton (only one instance of it like None) \n",
    "* For example you might have an option where you could get None or an empty list so you typically want to check for None\n",
    "    * use a is not None (NOT: not a is None)\n",
    "\n",
    "### Multiple tests against a single variable\n",
    "* for example you have a list of things you want to check you should not do \n",
    "    * NOT: if m == opt1 or m == opt2 or m == opt3:\n",
    "* You can check for items in a set so instead you should do:\n",
    "    * if m in [opt1, opt2, opt3]:\n",
    "    * It is a little bit slower, but much more readable, might be worth considering for performance\n",
    "    * In their example, 1 million loop:\n",
    "        * m == option: 0.2 sec\n",
    "        * m in defined_set: 0.3 sec\n",
    "        * m in {opt1, opt2, opt3}: 2.2 sec\n",
    "            * defining the set outside the loop makes a HUGE difference\n",
    "\n",
    "### Choosing a random item\n",
    "* **BAD**\n",
    "    * `index = random.randint(0, len(letters)-1)`\n",
    "    * `item = letters[index]`\n",
    "* **GOOD**\n",
    "    * `item = random.choice(letters)`\n",
    "        * choose from string, or other things\n",
    "\n",
    "### String Formatting\n",
    "* Cannot add strings and other formats \n",
    "    * FAILS: print(“I’m a string” + any_int + “more string”)\n",
    "    * Not pythonic = print(“I’m a string” + str(any_int) + “more string”)\n",
    "    * ok: print(“I’m a string %d more string” % any_int)\n",
    "    * definitely pythonic: print(“I’m a string {} more string”.format(any_variable))\n",
    "* Fancier output:\n",
    "    * `print(“This is a {1}, and a {0} remember {1}”.format(name0, name1))`\n",
    "    * `print(“This is a {entry1} and entry2: {entry2}”.format(**data))`\n",
    "        * where data is a dictionary with keys ‘entry1’ and ‘entry2’\n",
    "\n"
   ]
  },
  {
   "cell_type": "code",
   "execution_count": 5,
   "metadata": {},
   "outputs": [
    {
     "name": "stdout",
     "output_type": "stream",
     "text": [
      "Not pythonic = print(“I’m a string ” + str(any_int) + “ more string”)\n",
      "\tI’m a string 5 more string\n",
      "\n",
      "ok: print(“I’m a string %d more string” % any_int)\n",
      "\tI’m a string 5 more string\n",
      "\n",
      "definitely pythonic: print(“I’m a string {} more string”.format(any_variable))\n",
      "\tI’m a string ['I am', ' a list'] more string\n",
      "\n",
      "Fancier options\n",
      "\tThis is a name1, and a name0 remember name1\n",
      "\tThis is a name0 and entry2: name1\n"
     ]
    }
   ],
   "source": [
    "any_int = 5\n",
    "any_variable = ['I am', ' a list']\n",
    "name0 = \"name0\"\n",
    "name1 = \"name1\"\n",
    "data = {'entry1':'name0', 'entry2':'name1'}\n",
    "\n",
    "print('Not pythonic = print(“I’m a string ” + str(any_int) + “ more string”)')\n",
    "print(\"\\tI’m a string \" + str(any_int) + \" more string\")\n",
    "print()\n",
    "print('ok: print(“I’m a string %d more string” % any_int)')\n",
    "print(\"\\tI’m a string %d more string\" % any_int)\n",
    "print()\n",
    "print('definitely pythonic: print(“I’m a string {} more string”.format(any_variable))')\n",
    "print(\"\\tI’m a string {} more string\".format(any_variable))\n",
    "print()\n",
    "print(\"Fancier options\")\n",
    "print(\"\\tThis is a {1}, and a {0} remember {1}\".format(name0, name1))\n",
    "# python 3.? and beyond where ? is 5 or 6\n",
    "print(\"\\tThis is a {entry1} and entry2: {entry2}\".format(**data))"
   ]
  },
  {
   "cell_type": "markdown",
   "metadata": {},
   "source": [
    "### Care enough to send an exit code\n",
    "* Run a program, default exit code is 0\n",
    "* If you are going to exit a program earlier, you can specify sys.exit(1)\n",
    "    * now the exit code will be 1 instead, that way if someone’s program calls your app/program then it can know if it completed successfully, but 1 is something failed or a non-standard exit happened\n",
    "    \n",
    "### Flat is better than nested\n",
    "* His example has a set of nested if statements with a bunch of else statements under it “saw tooth programming” \n",
    "* better to write individual checks and continue/return if they fail so some thing like\n",
    "    * if not option:\n",
    "        * print(“failed”)\n",
    "        * return\n",
    "    * otherwise you would have a messy set of ‘elses’"
   ]
  },
  {
   "cell_type": "markdown",
   "metadata": {},
   "source": [
    "------\n",
    "# **Dictionaries**\n",
    "------\n",
    "## Why Dictionaries\n",
    "* when you create a new class/object there is a dictionary that stores \n",
    "* isomorphic with JSON (1-1 mapping and JSON is the webs most important transport type)\n",
    "* keyword arguments in methods come through as dictionaries\n",
    "* significant performance boost for random access algorithms\n",
    "* python doesn’t have a build in “switch function” we can use dictionaries for this\n",
    "* Database records - easier to use with column names\n",
    "\n",
    "## Stop using lists for everything\n",
    "* If you’re looping through a range, but don’t care about the index you use\n",
    "    * `for _ in range(0,100):`\n",
    "    * pythonic for I have to put something here, but I don’t care what it is\n",
    "* His example seems a little complicated, but long story short is that dictionaries are better for looking things up. (instead of looping through a list!)\n",
    "* Also, dictionaries can be created with a comprehension:\n",
    "    * `d = {d.id: d for d in data_list}`\n",
    "\n",
    "## Merging Dictionaries\n",
    "* Non-pythonic: loop through every dictionary "
   ]
  },
  {
   "cell_type": "code",
   "execution_count": 6,
   "metadata": {},
   "outputs": [
    {
     "name": "stdout",
     "output_type": "stream",
     "text": [
      "{'b': 2, 'c': 3, 'a': 'a', 'd': 'd'}\n",
      "{'b': 2, 'c': 3, 'a': 'a', 'd': 'd'}\n",
      "{'b': 2, 'c': 3, 'a': 'a', 'd': 'd'}\n",
      "True\n"
     ]
    }
   ],
   "source": [
    "dictionary1 = {'a':1}\n",
    "dictionary2 = {'b':2, 'c':3}\n",
    "dictionary3 = {'a':'a', 'd':'d'}\n",
    "\n",
    "#classic pythonic option: \n",
    "m1 = dictionary1.copy()\n",
    "m1.update(dictionary2)\n",
    "m1.update(dictionary3)\n",
    "print(m1)\n",
    "\n",
    "# using dictionary comprehension (pythonic, but less easy to read)\n",
    "m2 = {k: e for d in [dictionary1, dictionary2, dictionary3] for k, e in d.items()}\n",
    "print(m2)\n",
    "\n",
    "# python3.5 and beyond short hand\n",
    "m3 = {**dictionary1, **dictionary2, **dictionary3}\n",
    "print(m3)\n",
    "\n",
    "print(m1==m2==m3)"
   ]
  },
  {
   "cell_type": "markdown",
   "metadata": {},
   "source": [
    "## Hacking Python's memory\n",
    "\n",
    "* Two conflicting messages in zen of python\n",
    "    * `Special cases aren't special enough to break the rules.`\n",
    "    * `Although practicality beats purity.`\n",
    "* Using `__slots__` to save memory\n",
    "\n",
    "note: `ImmutableThings` below, a,b,c,d can be changed, but the number "
   ]
  },
  {
   "cell_type": "code",
   "execution_count": 7,
   "metadata": {
    "collapsed": true
   },
   "outputs": [],
   "source": [
    "ImmutableThingTuple = collections.namedtuple('ImmutableThingTuple', 'a b c d')\n",
    "class MutableThing:\n",
    "    def __init__(self,a,b,c,d):\n",
    "        self.a = a\n",
    "        self.b = b\n",
    "        self.c = c\n",
    "        self.d = d\n",
    "\n",
    "class ImmutableThing:\n",
    "    __slot__ = ['a', 'b', 'c', 'd']\n",
    "    \n",
    "    def __init__(self,a,b,c,d):\n",
    "        self.a = a\n",
    "        self.b = b\n",
    "        self.c = c\n",
    "        self.d = d"
   ]
  },
  {
   "cell_type": "markdown",
   "metadata": {},
   "source": [
    "* Run add 1,000,000 things to the list\n",
    "    * set slot data and it halfs the time and memory of a typical class\n",
    "* **Important** Don't use this as a default, but it is important to understand how this can affect the memory\n",
    "\n",
    "## Safer Dictionary item access\n"
   ]
  },
  {
   "cell_type": "code",
   "execution_count": 8,
   "metadata": {},
   "outputs": [
    {
     "name": "stdout",
     "output_type": "stream",
     "text": [
      "optimistic:\n",
      "2001\n"
     ]
    }
   ],
   "source": [
    "d = {'year':2001, 'title':'Johnny 5'}\n",
    "\n",
    "print('optimistic:')\n",
    "print(d['year'])\n",
    "#print(d['rating']) Crashes"
   ]
  },
  {
   "cell_type": "code",
   "execution_count": 9,
   "metadata": {},
   "outputs": [
    {
     "name": "stdout",
     "output_type": "stream",
     "text": [
      "2001\n",
      "Oops! 'rating'\n"
     ]
    }
   ],
   "source": [
    "# pessimistic view\n",
    "try:\n",
    "    print(d['year'])\n",
    "    print(d['rating'])\n",
    "except Exception as x:\n",
    "    print(\"Oops! {}\".format(x))\n",
    "# catches error, but breaks functional flow"
   ]
  },
  {
   "cell_type": "code",
   "execution_count": 10,
   "metadata": {},
   "outputs": [
    {
     "name": "stdout",
     "output_type": "stream",
     "text": [
      "no rating in d\n"
     ]
    }
   ],
   "source": [
    "# Safety first:\n",
    "# Check then use data\n",
    "if 'rating' in d:\n",
    "    print(d['rating'])\n",
    "else:\n",
    "    print(\"no rating in d\")"
   ]
  },
  {
   "cell_type": "code",
   "execution_count": 11,
   "metadata": {},
   "outputs": [
    {
     "name": "stdout",
     "output_type": "stream",
     "text": [
      "2001\n",
      "***\n"
     ]
    }
   ],
   "source": [
    "# accept None instead\n",
    "d.get('rating') # default = None\n",
    "\n",
    "# Explicit alternative\n",
    "print(d.get('year', 0))\n",
    "print(d.get('rating', '***'))"
   ]
  },
  {
   "cell_type": "markdown",
   "metadata": {},
   "source": [
    "** Default for whole dictionary **\n",
    "\n",
    "Use collections defaultdict that will "
   ]
  },
  {
   "cell_type": "code",
   "execution_count": 12,
   "metadata": {},
   "outputs": [
    {
     "name": "stdout",
     "output_type": "stream",
     "text": [
      "2001\n",
      "MISSING\n"
     ]
    }
   ],
   "source": [
    "# default dict from collections\n",
    "from collections import defaultdict\n",
    "data = defaultdict(lambda: 'MISSING', d)\n",
    "print(data['year'])\n",
    "print(data['rating'])"
   ]
  },
  {
   "cell_type": "markdown",
   "metadata": {},
   "source": [
    "## Dictionaries as switch statements\n",
    "\n",
    "Long story short: use dictionaries to parse things instead of a big list of if statements.\n",
    "He refers to this as a 'switch statement' I guess switch the value you gave to another or get a function, for example:\n",
    "\n",
    "```python\n",
    "# Get Moves method from character\n",
    "moves_lookup = {\n",
    "        'w': Moves.West,\n",
    "        's': Moves.South,\n",
    "        'n': Moves.North,\n",
    "        'e': Moves.East\n",
    "    }\n",
    "    \n",
    "```\n",
    "\n",
    "## To and From JSON"
   ]
  },
  {
   "cell_type": "code",
   "execution_count": 13,
   "metadata": {},
   "outputs": [
    {
     "name": "stdout",
     "output_type": "stream",
     "text": [
      "<class 'dict'> {'Runtime': '119 min', 'Title': 'Johnny 5', 'Year': '2001'}\n",
      "The title is Johnny 5\n",
      "<class 'str'> {\"Runtime\": \"119 min\", \"Title\": \"Johnny 5\", \"Year\": \"2001\"}\n"
     ]
    }
   ],
   "source": [
    "import json\n",
    "\n",
    "json_str = \"\"\"\n",
    "{\n",
    "\"Title\":\"Johnny 5\",\n",
    "\"Year\":\"2001\",\n",
    "\"Runtime\":\"119 min\"\n",
    "}\n",
    "\"\"\"\n",
    "# loads = load from string\n",
    "movie_data = json.loads(json_str)\n",
    "print(type(movie_data), movie_data)\n",
    "print(\"The title is {Title}\".format(**movie_data))\n",
    "\n",
    "# dump = dump to string instead of to a file\n",
    "movie_json = json.dumps(movie_data)\n",
    "print(type(movie_json), movie_json)"
   ]
  },
  {
   "cell_type": "markdown",
   "metadata": {},
   "source": [
    "-----\n",
    "# Generators and Collections\n",
    "-----\n",
    "\n",
    "\n",
    "## Custom iteration and your types\n",
    "\n",
    "Adding iterations to a custom type\n"
   ]
  },
  {
   "cell_type": "code",
   "execution_count": 14,
   "metadata": {},
   "outputs": [
    {
     "name": "stdout",
     "output_type": "stream",
     "text": [
      "* guitar  $800\n",
      "* cd  $20\n"
     ]
    }
   ],
   "source": [
    "class ShoppingCart:\n",
    "    def __init__(self):\n",
    "        self.items = []\n",
    "    \n",
    "    def add_item(self, it):\n",
    "        self.items.append(it)\n",
    "\n",
    "    def __iter__(self):\n",
    "        # Uses underlying list structure\n",
    "        # return self.items.__iter__()\n",
    "        \n",
    "        sorted_items = sorted(self.items, key=lambda i: -i.price)\n",
    "        # return sorted_items.__iter__()\n",
    "    \n",
    "        for i in sorted_items:\n",
    "            yield i  # talk more about yield later\n",
    "\n",
    "class CartItem:\n",
    "    def __init__(self, name, price):\n",
    "        self.price = price\n",
    "        self.name = name\n",
    "\n",
    "cart = ShoppingCart()\n",
    "cart.add_item(CartItem('guitar', 800))\n",
    "cart.add_item(CartItem('cd', 20))\n",
    "\n",
    "for item in cart: \n",
    "    # \"'ShoppingCart' object is not iterable \" without __iter__\n",
    "    print(\"* {}  ${}\".format(item.name, item.price))"
   ]
  },
  {
   "cell_type": "markdown",
   "metadata": {},
   "source": [
    "## Testing for containment\n",
    "\n",
    "Looking for items in a list, set, dictionary, etc...\n"
   ]
  },
  {
   "cell_type": "code",
   "execution_count": 15,
   "metadata": {},
   "outputs": [
    {
     "name": "stdout",
     "output_type": "stream",
     "text": [
      "Enter a number to test for small fibonacci: 4\n",
      "not in list\n",
      "not in set\n",
      "not in dict\n"
     ]
    }
   ],
   "source": [
    "nlist = [1,1,2,3,5]\n",
    "nset = [1,1,2,3,5]\n",
    "ndict = {1:'1', 2:'2', 3:'3', 5:'5'}\n",
    "\n",
    "n = int(input(\"Enter a number to test for small fibonacci: \"))\n",
    "\n",
    "print(\"{} in list\".format(n) if n in nlist else \"not in list\")\n",
    "print(\"{} in set\".format(n) if n in nset else \"not in set\")\n",
    "print(\"{} in dict\".format(n) if n in ndict else \"not in dict\")"
   ]
  },
  {
   "cell_type": "markdown",
   "metadata": {},
   "source": [
    "## Slicing collections all the way to the database\n",
    "\n",
    "Ways to split data"
   ]
  },
  {
   "cell_type": "code",
   "execution_count": 16,
   "metadata": {},
   "outputs": [
    {
     "name": "stdout",
     "output_type": "stream",
     "text": [
      "[0, 1, 2, 3, 4]\n",
      "[0, 1, 2, 3, 4]\n",
      "[2, 3, 4, 5, 6, 7]\n",
      "[97, 98, 99]\n"
     ]
    }
   ],
   "source": [
    "nums = [_ for _ in range(100)]\n",
    "# first 5\n",
    "print(nums[0:5])\n",
    "print(nums[:5])\n",
    "\n",
    "# 2-->7 nums\n",
    "print(nums[2:8])\n",
    "\n",
    "# Last 3 nums\n",
    "print(nums[-3:])"
   ]
  },
  {
   "cell_type": "markdown",
   "metadata": {},
   "source": [
    "He uses sqlalchemy methods and a sqlite table as an example. \n",
    "\n",
    "The main point here is that you can use this same \"slicing\" feature in many other items"
   ]
  },
  {
   "cell_type": "markdown",
   "metadata": {},
   "source": [
    "## On-demand computation with yield and generators\n",
    "\n",
    "example fibonacci methods"
   ]
  },
  {
   "cell_type": "code",
   "execution_count": 17,
   "metadata": {},
   "outputs": [
    {
     "name": "stdout",
     "output_type": "stream",
     "text": [
      "1, 1, 2, 3, 5, 8, 13, 21, 34, 55, 89, 144, "
     ]
    }
   ],
   "source": [
    "# First, returns a full list:\n",
    "def classic_fibonacci(limit):\n",
    "    nums = list()\n",
    "    current, nxt = 0, 1\n",
    "    \n",
    "    while current < limit:\n",
    "        current, nxt = nxt, nxt+current\n",
    "        nums.append(current)\n",
    "    return nums\n",
    "\n",
    "for m in classic_fibonacci(100):\n",
    "    print(m, end=', ')"
   ]
  },
  {
   "cell_type": "markdown",
   "metadata": {},
   "source": [
    "What if I want to find a section that meets a certain requirement, lets write this in a \n",
    "way that doesn't require the user to get a 5 million item list. \n",
    "\n",
    "\n",
    "Lets make a new method that is more dynamic\n",
    "\n",
    "```python\n",
    "# First, returns a full list:\n",
    "def generator_fibonacci():\n",
    "    nums = list()\n",
    "    current, nxt = 0, 1\n",
    "    \n",
    "    while True:\n",
    "        current, nxt = nxt, nxt+current\n",
    "        nums.append(current)\n",
    "    return nums\n",
    "```\n",
    "That will run forever and crash, instead use the yield key word"
   ]
  },
  {
   "cell_type": "code",
   "execution_count": 18,
   "metadata": {
    "collapsed": true
   },
   "outputs": [],
   "source": [
    "def generator_fibonacci():\n",
    "    nums = list()\n",
    "    current, nxt = 0, 1\n",
    "    \n",
    "    while True:\n",
    "        current, nxt = nxt, nxt+current\n",
    "        yield current"
   ]
  },
  {
   "cell_type": "code",
   "execution_count": 19,
   "metadata": {},
   "outputs": [
    {
     "name": "stdout",
     "output_type": "stream",
     "text": [
      "1, 1, 2, 3, 5, 8, 13, 21, 34, 55, 89, 144, 2, 8, 34, 144, 610, 2584, 10946, 46368, 196418, 832040, "
     ]
    }
   ],
   "source": [
    "for m in generator_fibonacci():\n",
    "    print(m, end=\", \")\n",
    "    if m > 100:\n",
    "        break\n",
    "\n",
    "# Only stores 1 number at a time\n",
    "\n",
    "# chain together\n",
    "\n",
    "def even_generator(numbers):\n",
    "    for n in numbers:\n",
    "        if n % 2== 0:\n",
    "            yield n\n",
    "\n",
    "            \n",
    "def even_fib_generator():\n",
    "    for n in even_generator(generator_fibonacci()):\n",
    "        yield n\n",
    "        \n",
    "for m in even_fib_generator():\n",
    "    print(m, end=', ')\n",
    "    if m > 200000:\n",
    "        break"
   ]
  },
  {
   "cell_type": "markdown",
   "metadata": {},
   "source": [
    "## Recursive generators with yield from \n",
    "\n",
    "This is new in python3, in short you can use the keyword `yield from` with recursive functions. \n",
    "\n",
    "```python\n",
    "def recursive_method(param):\n",
    "\n",
    "    if condition1:\n",
    "        yield 1\n",
    "    else:\n",
    "        yield from recursive_method(param+\"str\")\n",
    "```\n",
    "\n",
    "## Inline generators via expressions\n",
    "\n",
    "Options\n",
    "* loop through measurements\n",
    "* use a list comprehension (turns into list)\n",
    "    * [] for list\n",
    "    * {} for dict or set\n",
    "* generator - only gets number when you need to use it\n",
    "    * () instead of [] in list comprehension"
   ]
  },
  {
   "cell_type": "code",
   "execution_count": 20,
   "metadata": {},
   "outputs": [
    {
     "name": "stdout",
     "output_type": "stream",
     "text": [
      "[7, 9]\n",
      "<generator object <genexpr> at 0x107da7990> [7, 9]\n"
     ]
    }
   ],
   "source": [
    "measurements = [ [1,2,3], [1,2,7], [1,2,9]]\n",
    "\n",
    "m_list = [m[2] for m in measurements if m[2] > 3]\n",
    "m_gen = (m[2] for m in measurements if m[2] > 3)\n",
    "\n",
    "print(m_list)\n",
    "print(m_gen, list(m_gen))"
   ]
  },
  {
   "cell_type": "markdown",
   "metadata": {},
   "source": [
    "## Counting generators\n",
    "\n",
    "How do you find the number of items in a generator?\n",
    "\n",
    "** IMPORTANT **\n",
    "You can only use a generator once!!!\n",
    "For a similar reason, you can't copy it\n"
   ]
  },
  {
   "cell_type": "code",
   "execution_count": 21,
   "metadata": {},
   "outputs": [
    {
     "name": "stdout",
     "output_type": "stream",
     "text": [
      "2\n",
      "2\n"
     ]
    }
   ],
   "source": [
    "m_gen = (m[2] for m in measurements if m[2] > 3)\n",
    "# print(len(m_gen))  # Crashes\n",
    "# object of type 'generator' has no len() \n",
    "\n",
    "m_gen = (m[2] for m in measurements if m[2] > 3)\n",
    "# you could use a list\n",
    "print(len(list(m_gen)))\n",
    "\n",
    "m_gen = (m[2] for m in measurements if m[2] > 3)\n",
    "# pythonic counting\n",
    "# print(sum(m_gen)) = 16 (7+9)\n",
    "count = sum(1 for _ in m_gen)\n",
    "print(count)"
   ]
  },
  {
   "cell_type": "markdown",
   "metadata": {},
   "source": [
    "----\n",
    "# Pythonic Functions and Methods\n",
    "---\n",
    "\n",
    "## Intro \n",
    "These are important and functions are dynamic and can be passed around \n",
    "\n",
    "## Leverage inline methods with lambda expressions\n",
    "\n",
    "You can define a function `find_special_numbers` that takes a function that defines special numbers:"
   ]
  },
  {
   "cell_type": "code",
   "execution_count": 22,
   "metadata": {},
   "outputs": [
    {
     "name": "stdout",
     "output_type": "stream",
     "text": [
      "[1, 3, 5, 7, 9, 11, 13]\n",
      "[0, 6, 12, 18, 24]\n"
     ]
    }
   ],
   "source": [
    "def find_special_numbers(special_funct, limit = 10):\n",
    "    nums = list()\n",
    "    for n in range(limit):\n",
    "        if special_funct(n):\n",
    "            nums.append(n)\n",
    "    return nums\n",
    "\n",
    "def is_odd(n):\n",
    "    return n % 2 == 1\n",
    "\n",
    "print(find_special_numbers(is_odd, limit=15))\n",
    "\n",
    "# Use lambda expression instead\n",
    "#check = lambda i: i % 6 == 0\n",
    "#print(find_special_numbers(check, 25))\n",
    "\n",
    "# better to put lambda in line:\n",
    "print(find_special_numbers(lambda i: i % 6 == 0, 25))"
   ]
  },
  {
   "cell_type": "markdown",
   "metadata": {},
   "source": [
    "Another example, sort algorithms, default is to sort by case"
   ]
  },
  {
   "cell_type": "code",
   "execution_count": 23,
   "metadata": {},
   "outputs": [
    {
     "name": "stdout",
     "output_type": "stream",
     "text": [
      "['Python', 'WORD', 'and', 'word']\n",
      "['and', 'Python', 'word', 'WORD']\n"
     ]
    }
   ],
   "source": [
    "lword = ['Python', 'and', 'word', 'WORD']\n",
    "print(sorted(lword))\n",
    "print(sorted(lword, key=lambda w:w.lower()))\n"
   ]
  },
  {
   "cell_type": "markdown",
   "metadata": {},
   "source": [
    "## I'm going to ignore your return value\n",
    "(Avoid return values for error handling)\n",
    "\n",
    "Can you check every single possible case, so you could use a ** better to ask for forgiveness than permission **"
   ]
  },
  {
   "cell_type": "code",
   "execution_count": 24,
   "metadata": {},
   "outputs": [
    {
     "name": "stdout",
     "output_type": "stream",
     "text": [
      "Cannot download: <class 'NameError'> --> name 's' is not defined\n"
     ]
    }
   ],
   "source": [
    "def run_with_handling():\n",
    "    try: \n",
    "        data = s.download_file()\n",
    "        print(\"downloaded data --> {}\".format(data))\n",
    "    except Exception as x:\n",
    "        print(\"Cannot download: {} --> {}\".format(type(x), x))\n",
    "\n",
    "run_with_handling()"
   ]
  },
  {
   "cell_type": "markdown",
   "metadata": {},
   "source": [
    "You can also do different behavior for different exceptions:\n",
    "\n",
    "```python\n",
    "def run_with_handling():\n",
    "    try: \n",
    "        data = s.download_file()\n",
    "        print(\"downloaded data --> {}\".format(data))\n",
    "    except ConnectionError as ce:\n",
    "        print(\"Cannot download, problem with network: {}\".format(ce))\n",
    "    except Exception as x:\n",
    "        print(\"Cannot download: {} --> {}\".format(type(x), x))\n",
    "```\n",
    "\n",
    "This is better error handling for python, the other lesson is make sure to raise different types of errors when writing an API so other people can check for different failures. \n",
    "\n",
    "## There is no method overloading\n",
    "\n",
    "In other languages you can define the same method twice with different number of parameters. In python when you define a new method with the same name as an existing it overwrites it. \n",
    "The first simple is overwritten:\n",
    "\n",
    "```python\n",
    "class Sample:\n",
    "    def simple(self):\n",
    "        print(\"simple\")\n",
    "    def simple(self, details):\n",
    "        print(\"Simple with details: {}\".format(details))\n",
    "\n",
    "s = Sample()\n",
    "s.simple()  # fails\n",
    "s.simple('details')  # \"Simple with details: details\"\n",
    "\n",
    "```\n",
    "\n",
    "## Default values for overloads\n",
    "This is typical from my python experience:"
   ]
  },
  {
   "cell_type": "code",
   "execution_count": 25,
   "metadata": {},
   "outputs": [
    {
     "name": "stdout",
     "output_type": "stream",
     "text": [
      "Hello mike\n",
      "Hello mike\n",
      "Hello mike\n",
      "Yo Jane\n",
      "Yo Jane\n",
      "Yo Jane\n",
      "Hello Ike\n"
     ]
    }
   ],
   "source": [
    "def greeting(name, greet=\"Hello\", times=3):\n",
    "    for _ in range(times):\n",
    "        print(\"{} {}\".format(greet,name))\n",
    "        \n",
    "        \n",
    "greeting('mike')\n",
    "greeting('Jane', 'Yo')\n",
    "greeting('Ike', times=1) # Use specification out of order"
   ]
  },
  {
   "cell_type": "markdown",
   "metadata": {},
   "source": [
    "## Variable argument count for overloads\n",
    "\n",
    "Introducing `*args` for an arbitrary number of variables"
   ]
  },
  {
   "cell_type": "code",
   "execution_count": 26,
   "metadata": {},
   "outputs": [
    {
     "name": "stdout",
     "output_type": "stream",
     "text": [
      "876\n"
     ]
    }
   ],
   "source": [
    "def biggest(x, *args):\n",
    "    big = x\n",
    "    for y in args:\n",
    "        if y > big:\n",
    "            big = y\n",
    "    return y\n",
    "\n",
    "print(biggest(1,19,3,90,876))"
   ]
  },
  {
   "cell_type": "markdown",
   "metadata": {},
   "source": [
    "## Unpacking dictionaries as named arguments\n",
    "\n",
    "Can you use dictionaries as parameters"
   ]
  },
  {
   "cell_type": "code",
   "execution_count": 27,
   "metadata": {},
   "outputs": [
    {
     "name": "stdout",
     "output_type": "stream",
     "text": [
      "Long time no see Ted\n",
      "Long time no see Ted\n",
      "Long time no see Ted\n",
      "Long time no see Ted\n",
      "Long time no see Ted\n",
      "Long time no see Ted\n"
     ]
    }
   ],
   "source": [
    "data = {'name':'Ted', 'greet':'Long time no see', 'times':6}\n",
    "greeting(**data)"
   ]
  },
  {
   "cell_type": "code",
   "execution_count": 28,
   "metadata": {},
   "outputs": [
    {
     "name": "stdout",
     "output_type": "stream",
     "text": [
      "Long time no see Ted\n",
      "kwargs: {'mode': 'testing', 'nickname': 'T-dog'}\n",
      "Yo Dog Chris\n",
      "Yo Dog Chris\n",
      "Yo Dog Chris\n",
      "kwargs: {'rating': '***'}\n"
     ]
    }
   ],
   "source": [
    "# Now add kwargs or more key words\n",
    "def greeting(name, greet=\"Hello\", times=3, **kwargs):\n",
    "    for _ in range(times):\n",
    "        print(\"{} {}\".format(greet,name))\n",
    "    print(\"kwargs: {}\".format(kwargs))\n",
    "\n",
    "data = {'name':'Ted', 'greet':'Long time no see', 'times':6, \n",
    "        'mode':'testing','nickname':'T-dog'}\n",
    "data['times']=1\n",
    "greeting(**data)\n",
    "\n",
    "d2 = {'name':'Chris','greet':'Yo Dog', 'rating':'***'}\n",
    "greeting(**d2)"
   ]
  },
  {
   "cell_type": "markdown",
   "metadata": {},
   "source": [
    "`*args` and `**kwargs` are the traditional names, but the important part is the `*` or `**` part, you can name them anything you like. \n",
    "\n",
    "## Beward: The danger of mutable default arguments"
   ]
  },
  {
   "cell_type": "code",
   "execution_count": 29,
   "metadata": {},
   "outputs": [
    {
     "name": "stdout",
     "output_type": "stream",
     "text": [
      "['a', 'a', 'a']\n",
      "['a', 'a', 'a', 'b', 'b']\n",
      "['a', 'a', 'a', 'b', 'b', 'd', 'd', 'd', 'd']\n",
      "4426754632 4426754632 True\n"
     ]
    }
   ],
   "source": [
    "def add_bad(name, times=1, lst=[]):\n",
    "    for _ in range(times):\n",
    "        lst.append(name)\n",
    "    return lst\n",
    "\n",
    "a = add_bad('a',3)\n",
    "print(a)\n",
    "add_bad('b', 2, a)\n",
    "print(a)\n",
    "# try making a new one\n",
    "d = add_bad('d',4)\n",
    "# d = ['d', 'd', 'd', 'd'] expected\n",
    "print(d)\n",
    "print(id(a), id(d), id(a)==id(d))"
   ]
  },
  {
   "cell_type": "markdown",
   "metadata": {},
   "source": [
    "**OH NO!!!**\n",
    "\n",
    "a and d are identical,\n",
    "there is only one object lst and it is mutable so you change it to a and it stays that way. \n",
    "\n",
    "Better option is to have no specified option. "
   ]
  },
  {
   "cell_type": "code",
   "execution_count": 30,
   "metadata": {},
   "outputs": [
    {
     "name": "stdout",
     "output_type": "stream",
     "text": [
      "['a', 'a', 'a']\n",
      "['a', 'a', 'a', 'b', 'b']\n",
      "['d', 'd', 'd', 'd']\n",
      "4426715208 4426620680 False\n"
     ]
    }
   ],
   "source": [
    "def add_good(name, times=1, lst=None):\n",
    "    if lst is None:\n",
    "        lst = []\n",
    "    for _ in range(times):\n",
    "        lst.append(name)\n",
    "    return lst  \n",
    "        \n",
    "a = add_good('a',3)\n",
    "print(a)\n",
    "add_good('b', 2, a)\n",
    "print(a)\n",
    "# try making a new one\n",
    "d = add_good('d',4)\n",
    "# d = ['d', 'd', 'd', 'd'] expected\n",
    "print(d)\n",
    "print(id(a), id(d), id(a)==id(d))"
   ]
  },
  {
   "cell_type": "markdown",
   "metadata": {},
   "source": [
    "Now every time you run add_good it will fix it. \n",
    "\n",
    "**alt enter** in pycharm will fix things for you\n",
    "\n",
    "---\n",
    "# Pythonic packaging and modules\n",
    "---\n",
    "\n",
    "##  Introduction\n",
    "\n",
    "** Language with the batteries included**\n",
    "All the packages like json, numpy, already included\n",
    "\n",
    "`import antigravity` \n",
    "\n",
    "[opens xkcd](https://xkcd.com/353/)\n",
    "\n",
    "## Pythonic import statements\n",
    "\n",
    "tl;dr don't do `from ... import *`\n",
    "\n",
    "## What is `__main__`\n",
    "\n",
    "If the thing is being executed, it's `__name__` is `'__main__'`\n",
    "Otherwise it has the name of the file. Lets you distinguish when a script is being used as a library vs. as the current script. \n",
    "\n",
    "## Isolation with virtual environments\n",
    "\n",
    "Isolate a virtual environment to test a single tool with a virtual environment. \n",
    "[virtual environment with anaconda](https://uoa-eresearch.github.io/eresearch-cookbook/recipe/2014/11/20/conda/)\n",
    "\n",
    "## State your requirements\n",
    "\n",
    "Make a requirements.txt in the form:\n",
    "```\n",
    "numpy\n",
    "sklearn\n",
    "```\n",
    "Then on the command line you can call \n",
    "```bash\n",
    "pip install -r [requirements.txt file]\n",
    "```\n",
    "\n",
    "--- \n",
    "# Classes and Objects\n",
    "---\n",
    "\n",
    "## Defining fields on classes\n",
    "\n",
    "When defining a class you should include parameters in the `__init__` function\n",
    "(as opposed to makeing a `set_name(self, name)` function inside a class you would just put `__init__(self, name)` and set `self.name = name` in the `__init__`. \n",
    "\n",
    "Things defined in `__init__` are instance level so you need to make an instance of the class to access them. \n",
    "\n",
    "You can define fields at the type level by defining it at the top level of the class (outside of `__init__`). He used an example with SQLAlchemy classes where he does this, but I'm not completely sure when this is better. \n",
    "\n",
    "## Encapsulation and data hiding\n",
    "\n",
    "Tends to be less pythonic to focus on private/protected variables inside classes, but worth knowing it exists. \n",
    "\n",
    "Lets create a `PetSnake` where you can set a name, but it is read only"
   ]
  },
  {
   "cell_type": "code",
   "execution_count": 31,
   "metadata": {},
   "outputs": [
    {
     "name": "stdout",
     "output_type": "stream",
     "text": [
      "Pet: ike age: 5, protection level: 2 \n",
      "5\n",
      "['_PetSnake__age', '__class__', '__delattr__', '__dict__', '__dir__', '__doc__', '__eq__', '__format__', '__ge__', '__getattribute__', '__gt__', '__hash__', '__init__', '__le__', '__lt__', '__module__', '__ne__', '__new__', '__reduce__', '__reduce_ex__', '__repr__', '__setattr__', '__sizeof__', '__str__', '__subclasshook__', '__weakref__', '_protected_val', 'name']\n"
     ]
    }
   ],
   "source": [
    "class PetSnake:\n",
    "    def __init__(self, name, age):\n",
    "        self.__age = age\n",
    "        self.name = name\n",
    "        self._protected_val = 2\n",
    "    \n",
    "    def __str__(self):\n",
    "        return \"Pet: {} age: {}, protection level: {} \".format(\n",
    "            self.name, self.__age, self._protected_val)\n",
    "\n",
    "p = PetSnake('ike', 5)\n",
    "print(p)\n",
    "\n",
    "# _protected_val is indicated to be not changed\n",
    "# It will still let you change it, but the _ tells users they shouldn't \n",
    "p._protected_val = 5\n",
    "print(p._protected_val)\n",
    "\n",
    "#print(p.__age) # 'PetSnake' object has no attribute '__age'\n",
    "# __age is hidden to the user\n",
    "# you can see that the age still exists with dir(p)\n",
    "print(dir(p))"
   ]
  },
  {
   "cell_type": "markdown",
   "metadata": {},
   "source": [
    "tl,dr: use `_` to protect, use `__` for private\n",
    "\n",
    "## Do not write get_thing() set_thing()\n",
    "\n",
    "If you make \n",
    "```python \n",
    "@property\n",
    "def prop(self)\n",
    "```\n",
    "functions the user can still access them. So lets make a new PetSnake, but with \n",
    "a publically accessible age. You can also make `@name.setter`s to allow the user to change the age. "
   ]
  },
  {
   "cell_type": "code",
   "execution_count": 32,
   "metadata": {},
   "outputs": [
    {
     "name": "stdout",
     "output_type": "stream",
     "text": [
      "5\n",
      "setting age to --> 10\n",
      "10\n"
     ]
    }
   ],
   "source": [
    "class PetSnake:\n",
    "    def __init__(self, name, age):\n",
    "        self.__age = age\n",
    "        self.name = name\n",
    "        self._protected_val = 2\n",
    "    \n",
    "    def __str__(self):\n",
    "        return \"Pet: {} age: {}, protection level: {} \".format(\n",
    "            self.name, self.__age, self._protected_val)\n",
    "    \n",
    "    @property\n",
    "    def age(self):\n",
    "        return self.__age\n",
    "    \n",
    "    @age.setter\n",
    "    def age(self, value):\n",
    "        print(\"setting age to --> {}\".format(value))\n",
    "        self.__age = value\n",
    "    \n",
    "p = PetSnake('ike', 5)\n",
    "\n",
    "# The @property functions can be used to access the information, but keep the \n",
    "# internal information to be protected\n",
    "print(p.age)\n",
    "\n",
    "# witht the @age.setter we can change the age so now...\n",
    "p.age = 10\n",
    "print(p.age)"
   ]
  },
  {
   "cell_type": "markdown",
   "metadata": {},
   "source": [
    "---\n",
    "# Pythonic Loops\n",
    "---\n",
    "\"There is no numerical loop in python\" \n",
    "\n",
    "I would argue there is with the range key word... \n"
   ]
  },
  {
   "cell_type": "code",
   "execution_count": 33,
   "metadata": {},
   "outputs": [
    {
     "name": "stdout",
     "output_type": "stream",
     "text": [
      "index:0\n",
      "data: 1\n",
      "index:1\n",
      "data: 7\n",
      "index:2\n",
      "data: 11\n",
      "\n",
      "data: 1\n",
      "data: 7\n",
      "data: 11\n"
     ]
    }
   ],
   "source": [
    "data = [1, 7, 11]\n",
    "\n",
    "# NOT Pythonic:\n",
    "i = 0\n",
    "while i < len(data):\n",
    "    print('index:{}'.format(i))\n",
    "    print('data: {}'.format(data[i]))\n",
    "    i += 1\n",
    "# DO NOT DO THIS, completely unpythonic, see below if you need the index\n",
    "\n",
    "print()\n",
    "\n",
    "# More pythonic to loop through the list itself \n",
    "for i in data:\n",
    "    print('data: {}'.format(i))"
   ]
  },
  {
   "cell_type": "markdown",
   "metadata": {},
   "source": [
    "## Wait, is there a numerical loop (v1)?\n",
    "\n",
    "We have `range` if you actually just want numbers. \n",
    "\n",
    "**Important python3**\n",
    "range is now a generator so `range(0,5)` just gives you range(0,5). In python2 it made an actual list so putting in `range(0,5)` it creates `[0,1,2,3,4]`\n",
    "\n",
    "remember if you want to do something 5 times, but don't need the number do\n",
    "```python\n",
    "for _ in range(5):\n",
    "    print(\"This is a loop\")\n",
    "```\n",
    "\n",
    "## Wait, is there a numerical for loop (v2) ? \n",
    "\n",
    "What if I have a list and I want the index something is at?\n",
    "You should not use `range` use `enumerate` instead"
   ]
  },
  {
   "cell_type": "code",
   "execution_count": 34,
   "metadata": {},
   "outputs": [
    {
     "name": "stdout",
     "output_type": "stream",
     "text": [
      "index:0\n",
      "data: 1\n",
      "\n",
      "index:1\n",
      "data: 7\n",
      "\n",
      "index:2\n",
      "data: 11\n",
      "\n"
     ]
    }
   ],
   "source": [
    "# if you want data entry and index:\n",
    "for idx, d in enumerate(data):\n",
    "    print('index:{}'.format(idx))\n",
    "    print('data: {}'.format(d))\n",
    "    print()"
   ]
  },
  {
   "cell_type": "markdown",
   "metadata": {},
   "source": [
    "## Loops have an else block, don't use it\n",
    "\n",
    "Did you know loops have an else clause? [No, I didn't...]\n",
    "\n",
    "Here's a language feature, he recommends don't use it."
   ]
  },
  {
   "cell_type": "code",
   "execution_count": 35,
   "metadata": {},
   "outputs": [
    {
     "name": "stdout",
     "output_type": "stream",
     "text": [
      ".....In the else clause of the whole loop\n",
      "\n",
      "....\n",
      "......."
     ]
    }
   ],
   "source": [
    "# Loop that we finish\n",
    "count = 0\n",
    "while count < 5:\n",
    "    print('.', end='')\n",
    "    count +=1\n",
    "else:\n",
    "    print(\"In the else clause of the whole loop\")\n",
    "print()\n",
    "# Loop that we don't finish\n",
    "count = 0\n",
    "while count < 5:\n",
    "    print('.', end='')\n",
    "    count+=1\n",
    "    if count > 3:\n",
    "        break\n",
    "else:\n",
    "    print(\"In the else clause of the early break loop\")\n",
    "\n",
    "print()\n",
    "\n",
    "# For loops?\n",
    "for i in range(100):\n",
    "    print('.', end='')\n",
    "    if i > 5:\n",
    "        break\n",
    "else:\n",
    "    print(\"In the else clause of the early for loop\")"
   ]
  },
  {
   "cell_type": "markdown",
   "metadata": {},
   "source": [
    "[E-mail discussion from 2009](https://mail.python.org/pipermail/python-ideas/2009-October/006157.html) with Guido van Rossum's (creator of python) opinion on these, he says he would not include them if he were to remake the language \n",
    "\n",
    "tl,dr: don't use else: at the end of loops...\n",
    "\n",
    "---\n",
    "# Tuples\n",
    "---\n",
    "\n",
    "They're defined with commas (usual with `()` but those don't actually matter). You can get values by index or pull everything out with a new assignement. See below:"
   ]
  },
  {
   "cell_type": "code",
   "execution_count": 36,
   "metadata": {},
   "outputs": [
    {
     "name": "stdout",
     "output_type": "stream",
     "text": [
      "(7, 11, 'cat', [1, 2, 3])\n"
     ]
    }
   ],
   "source": [
    "t = 7,11,'cat',[1,2,3]\n",
    "print(t)\n",
    "\n",
    "# To get everything you could do \n",
    "# n = t[0]\n",
    "# but that isn't pythonic, instead get all at once\n",
    "n, m, animal, lst = t\n",
    "\n",
    "# If you only wanted the first two use an _ so\n",
    "n, m, _, _ = t "
   ]
  },
  {
   "cell_type": "markdown",
   "metadata": {},
   "source": [
    "This is how `enumerate` worked above. It makes a tuple of (index, entry) for each entry in a loop\n",
    "\n",
    "## Swapping values"
   ]
  },
  {
   "cell_type": "code",
   "execution_count": 37,
   "metadata": {},
   "outputs": [
    {
     "name": "stdout",
     "output_type": "stream",
     "text": [
      "starting x:1, y:2\n",
      "After swapping: x:2, y:1\n"
     ]
    }
   ],
   "source": [
    "x = 1\n",
    "y = 2\n",
    "\n",
    "print(\"starting x:{}, y:{}\".format(x,y))\n",
    "\n",
    "# None pythonic\n",
    "#temp = x\n",
    "#x = y\n",
    "#y = temp\n",
    "\n",
    "# Pythonic: use Tuples instead\n",
    "y,x = (x,y)\n",
    "print(\"After swapping: x:{}, y:{}\".format(x,y))"
   ]
  },
  {
   "cell_type": "markdown",
   "metadata": {},
   "source": [
    "## Multiple return values from a function\n",
    "\n",
    "Other languages let you specify that at the beginning, python functions don't have reference parameters or pointer. \n",
    "\n",
    "** NOT Pythonic **\n",
    "```python\n",
    "def out_params_bad(base: float, args: list):\n",
    "    if len(args) == 0:\n",
    "        args.append(0)\n",
    "        args.append(0)\n",
    "    if len(args) != 2:\n",
    "        raise Exception(\"Need 2 return values\")\n",
    "    args[0] = base*base\n",
    "    args[1] = math.sqrt(base*base*base)\n",
    "```\n",
    "Note this doesn't even return anything it just changes things in args and lets you access those. SUPER NON-PYTHONIC\n",
    "\n",
    "se the actual code for the pythonic way. "
   ]
  },
  {
   "cell_type": "code",
   "execution_count": 38,
   "metadata": {},
   "outputs": [
    {
     "name": "stdout",
     "output_type": "stream",
     "text": [
      "25,  11.180339887498949\n"
     ]
    }
   ],
   "source": [
    "import math\n",
    "# Here is the pythonic way\n",
    "def out_params(base:float):\n",
    "    # He defines two variables:\n",
    "    #r1 = base*base\n",
    "    #r2 = math.sqrt(base*base*base)\n",
    "    \n",
    "    # I thought it was better to just return them\n",
    "    return base*base, math.sqrt(base*base*base)\n",
    "\n",
    "v1, v2 = out_params(5)\n",
    "print(v1, v2, sep=\",  \")"
   ]
  },
  {
   "cell_type": "markdown",
   "metadata": {},
   "source": [
    "## Prefer named tuples\n",
    "\n",
    "Use collections method namedtuple to make your values easier to remember"
   ]
  },
  {
   "cell_type": "code",
   "execution_count": 39,
   "metadata": {},
   "outputs": [
    {
     "name": "stdout",
     "output_type": "stream",
     "text": [
      "id=1,  rating=50,  position=(19.2, 11.1)\n",
      "id=2,  rating=45,  position=(18.9, 12.0)\n",
      "id=3,  rating=55,  position=(20.1, 14.0)\n"
     ]
    }
   ],
   "source": [
    "Rating = collections.namedtuple('Rating', 'id, x, y, rating')\n",
    "\n",
    "tricky_data = [\n",
    "    Rating(1, 19.2, 11.1, 50),\n",
    "    Rating(2, 18.9, 12.0, 45),\n",
    "    Rating(3, 20.1, 14.0, 55),\n",
    "]\n",
    "\n",
    "for d in tricky_data:\n",
    "    print(\"id={},  rating={},  position=({}, {})\".format(d.id, d.rating, d.x, d.y))\n",
    "    \n",
    "# Now you don't have to remember what order the variables are in your tuple \n",
    "# It is easier for other people to read\n",
    "# Do everything normal tuples do, but with names"
   ]
  },
  {
   "cell_type": "markdown",
   "metadata": {},
   "source": [
    "---\n",
    "# Python for Humans\n",
    "---\n",
    "\n",
    "## Stand in for packages in general\n",
    "\n",
    "tl,dr: look at the lego blocks before you start building a new project, there are a lot of open source libraries out there. \n",
    "\n",
    "This section highlights two packages, but check out PyPI, conda, and github before you reinvent the wheel. \n",
    "\n",
    "## Requests: HTTP for Humans\n",
    "\n",
    "[Requests website](http://docs.python-requests.org/en/master/)\n",
    "pulling over 7,000,000 downloads every month\n",
    "recommended over the built in url libraries. \n",
    "\n",
    "**Note**\n",
    "you can install things in pycharm with \n",
    "* preferences > Project:[name] > Project Interpreter > + > search for name > Install Package\n",
    "    * Project Interpreter I keep set as my anaconda environment so it should be similar\n",
    "    \n",
    "Also, I didn't install request, but had it, though it might have come with something I pip or conda installed\n",
    "\n",
    "** This example**\n",
    "works with [OMDb](http://omdbapi.com)"
   ]
  },
  {
   "cell_type": "code",
   "execution_count": 40,
   "metadata": {},
   "outputs": [
    {
     "name": "stdout",
     "output_type": "stream",
     "text": [
      "Enter a title search string: Giver\n",
      "WHOA: status code unexpected! 401\n"
     ]
    }
   ],
   "source": [
    "import requests\n",
    "\n",
    "# \n",
    "title_text = input(\"Enter a title search string: \")\n",
    "url = \"http://www.omdbapi.com/?y=&plot=short&r=json&s={}\".format(title_text)\n",
    "url = \"http://www.omdbapi.com/?y&plot=short&r=json&s={}\".format(title_text)\n",
    "# process json --> Search -> Title\n",
    "resp = requests.get(url)\n",
    "if resp.status_code != 200:\n",
    "    print(\"WHOA: status code unexpected! {}\".format(resp.status_code))\n",
    "else:\n",
    "    data = resp.json()\n",
    "    search = data['Search']\n",
    "    for m in search:\n",
    "        print(\"* {}\".format(m['Title']))"
   ]
  },
  {
   "cell_type": "markdown",
   "metadata": {
    "collapsed": true
   },
   "source": [
    "I can't get that `^` to work for me\n",
    "\n",
    "## Records: SQL fro Humans\n",
    "\n",
    "An easy to use SQL database library to allow you to access data, sort and organize it. \n",
    "\n",
    "Point of these two sections:\n",
    "\n",
    "** It is pythonic to leverage PyPi and open source**\n",
    "\n",
    "---\n",
    "# Course Conclusion\n",
    "---\n",
    "\n",
    "## You've done it\n",
    "\n",
    "Now you hopefully have a better idea about how to code with pythonic idioms \n",
    "\n",
    "## Lightning review\n",
    "\n",
    "* PEP 8 is a good general style guide\n",
    "* Functional Concepts\n",
    "    * Truthiness\n",
    "    * `is None`\n",
    "    * Use `random.choice`\n",
    "    * add exit codes when applicalbe\n",
    "    * \"flat is better than nested\"\n",
    "* Dictionaries\n",
    "    * Faster for random look ups\n",
    "    * slots can provide speedup\n",
    "    * stand in for switch statement\n",
    "    * directly translateable to JSON\n",
    "* Generators and Collections\n",
    "    * Generator expressions and methods using `yield`\n",
    "    * Slicing is core pythonic concept (databases, lists, strings, etc)\n",
    "* Functions and Methods\n",
    "    * Lambda for small functions to be passed around\n",
    "    * try and except statements\n",
    "    * mutable types not great for default values\n",
    "* Modules and Packages\n",
    "    * `__main__` convention for libraries\n",
    "    * don't `from ... import *`\n",
    "* Classes and Objects\n",
    "    * data encapsulation and hidings\n",
    "    * properties and setters\n",
    "* Pythonic Loops\n",
    "    * `range` and `enumerate` \n",
    "    * forget they have an else block\n",
    "* Tuples\n",
    "    * set features, switching, return multiple values\n",
    "    * Use Collection's NamedTuples makes them easier to use\n",
    "* Python for Humans - look at what already exists\n",
    "\n",
    "## [Source Code on Github](https://github.com/mikeckennedy/write-pythonic-code-demos)\n",
    "\n",
    "## [Talk Python to Me Podcast](https://talkpython.fm)\n",
    "\n",
    "Find Michael Kennedy at:\n",
    "\n",
    "* Twitter: @mkennedy or @TalkPython\n",
    "* E-mail: contact@talkpython.fm\n"
   ]
  },
  {
   "cell_type": "code",
   "execution_count": null,
   "metadata": {
    "collapsed": true
   },
   "outputs": [],
   "source": []
  }
 ],
 "metadata": {
  "kernelspec": {
   "display_name": "Python 3",
   "language": "python",
   "name": "python3"
  },
  "language_info": {
   "codemirror_mode": {
    "name": "ipython",
    "version": 3
   },
   "file_extension": ".py",
   "mimetype": "text/x-python",
   "name": "python",
   "nbconvert_exporter": "python",
   "pygments_lexer": "ipython3",
   "version": "3.5.3"
  }
 },
 "nbformat": 4,
 "nbformat_minor": 2
}
