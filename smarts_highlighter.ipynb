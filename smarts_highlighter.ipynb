{
 "cells": [
  {
   "cell_type": "markdown",
   "metadata": {},
   "source": [
    "# SMARTS/SMIRKS Highlighter\n",
    "\n",
    "This notebook was created to help with molecule visualization using substructure searches. \n",
    "You provide \n",
    "- a list of molecules (demonstrated here with SMILES strings, but you could set it up to read in a file)\n",
    "- a SMILES/SMARTS/SMIRKS you want to match to the molecule\n",
    "\n",
    "Then an image is created for every substructure in each molecule matched by that SMILES/SMARTS/SMIRKS.\n",
    "\n",
    "**Import important modules**"
   ]
  },
  {
   "cell_type": "code",
   "execution_count": 16,
   "metadata": {},
   "outputs": [],
   "source": [
    "from openeye import oechem\n",
    "import openeye.oedepict as oedepict\n",
    "import IPython\n",
    "from IPython.display import display, Image\n",
    "from openforcefield.utils import read_molecules"
   ]
  },
  {
   "cell_type": "markdown",
   "metadata": {},
   "source": [
    "### Function for visualizing molecules with key atoms highlighted"
   ]
  },
  {
   "cell_type": "code",
   "execution_count": 17,
   "metadata": {},
   "outputs": [],
   "source": [
    "def  depictMatch(mol, match, supH = True, idx_atoms=list(), width=500, height=200, fn=None):\n",
    "    \n",
    "    atom_bond_set = oechem.OEAtomBondSet()\n",
    "    for atom in mol.GetAtoms():\n",
    "        if atom.GetIdx() in idx_atoms:\n",
    "            atom_bond_set.AddAtom(atom)\n",
    "            for bond in atom.GetBonds():\n",
    "                nbr_atom = bond.GetNbr(atom)\n",
    "                if (nbr_atom.GetIdx() in idx_atoms) and nbr_atom.GetIdx() > atom.GetIdx():\n",
    "                    atom_bond_set.AddBond(bond)\n",
    "    \n",
    "    dopt = oedepict.OEPrepareDepictionOptions()\n",
    "    dopt.SetDepictOrientation( oedepict.OEDepictOrientation_Horizontal)\n",
    "    dopt.SetSuppressHydrogens(supH)\n",
    "    oedepict.OEPrepareDepiction(mol, dopt)\n",
    "    \n",
    "    opts = oedepict.OE2DMolDisplayOptions(width, height, oedepict.OEScale_AutoScale)\n",
    "    opts.SetAtomColorStyle(oedepict.OEAtomColorStyle_WhiteMonochrome)\n",
    "    disp = oedepict.OE2DMolDisplay(mol, opts)\n",
    "    \n",
    "    # Highlight indexed atoms\n",
    "    hstyle = oedepict.OEHighlightStyle_Cogwheel\n",
    "    hcolor = oechem.OEColor(oechem.OELightBlue)\n",
    "    if not atom_bond_set.IsEmpty():\n",
    "        oedepict.OEAddHighlighting(disp, hcolor, hstyle, atom_bond_set)\n",
    "    \n",
    "    # Highlight whole match\n",
    "    hstyle = oedepict.OEHighlightStyle_BallAndStick\n",
    "    hcolor = oechem.OEColor(oechem.OELightSalmon)\n",
    "    oedepict.OEAddHighlighting(disp, hcolor, hstyle, match)\n",
    "    \n",
    "    img = oedepict.OEImage(width, height)\n",
    "    oedepict.OERenderMolecule(img,disp)\n",
    "    \n",
    "    if fn is not None:\n",
    "        ext = oechem.OEGetFileExtension(fn)\n",
    "        if oedepict.OEIsRegisteredImageFile(ext):\n",
    "            ofs = oechem.oeofstream()\n",
    "            if not ofs.open(fn):\n",
    "                print(\"OE could not open file due to error %s\" % fn)\n",
    "                ofs.close()\n",
    "            else:\n",
    "                oedepict.OERenderMolecule(ofs, ext, disp)\n",
    "                ofs.close()\n",
    "        else:\n",
    "            print(\"OE could not handle extension on %s\" % fn)\n",
    "    return img"
   ]
  },
  {
   "cell_type": "markdown",
   "metadata": {},
   "source": [
    "### Make a list of Molecules"
   ]
  },
  {
   "cell_type": "code",
   "execution_count": 18,
   "metadata": {},
   "outputs": [],
   "source": [
    "# start with a list of SMILES:\n",
    "smiles = ['CC12CCC3c4ccc(cc4CC(C3C1CCC2O)CCCCCCCCCS(=O)CCCC(C(F)(F)F)(F)F)O']"
   ]
  },
  {
   "cell_type": "code",
   "execution_count": 39,
   "metadata": {},
   "outputs": [
    {
     "name": "stdout",
     "output_type": "stream",
     "text": [
      "Loading molecules from '/Users/bannanc/miniconda/envs/openff/lib/python3.6/site-packages/openforcefield/data/molecules/zinc-subset-parm@frosst.mol2.gz'...\n",
      "7505 molecules read\n",
      "1.128 s elapsed\n"
     ]
    }
   ],
   "source": [
    "mols = read_molecules('zinc-subset-parm@frosst.mol2.gz')"
   ]
  },
  {
   "cell_type": "markdown",
   "metadata": {},
   "source": [
    "### Assign a SMILES/SMARTS/SMIRKS substructure search"
   ]
  },
  {
   "cell_type": "code",
   "execution_count": 40,
   "metadata": {},
   "outputs": [],
   "source": [
    "# write a string for your substructure search\n",
    "subsearch = 'CS(=O)(=O)Nc1ccncn1'"
   ]
  },
  {
   "cell_type": "markdown",
   "metadata": {},
   "source": [
    "### Do you want to see the hydrogens on your molecules?"
   ]
  },
  {
   "cell_type": "code",
   "execution_count": 41,
   "metadata": {},
   "outputs": [],
   "source": [
    "see_hydrogens = False"
   ]
  },
  {
   "cell_type": "markdown",
   "metadata": {},
   "source": [
    "### Do you want to use the MDL aromaticity model?"
   ]
  },
  {
   "cell_type": "code",
   "execution_count": 42,
   "metadata": {},
   "outputs": [],
   "source": [
    "mdl = False"
   ]
  },
  {
   "cell_type": "markdown",
   "metadata": {},
   "source": [
    "### Search each molecule for the pattern"
   ]
  },
  {
   "cell_type": "code",
   "execution_count": 43,
   "metadata": {
    "scrolled": false
   },
   "outputs": [],
   "source": [
    "unique = True\n",
    "save_file = True\n",
    "file_formula = \"/Users/bannanc/Desktop/highlight_mols/triv_%i_%i.pdf\"\n",
    "for smi_idx, smi in enumerate(smiles):\n",
    "#for smi_idx, mol in enumerate(mols):\n",
    "    #mol = oechem.OEMol()\n",
    "    #if not oechem.OESmilesToMol(mol, smi):\n",
    "    #    print(\"coun't parse %s\" % smi)\n",
    "    #    continue\n",
    "        \n",
    "    #oechem.OEAddExplicitHydrogens(mol)\n",
    "    \n",
    "    if mdl:\n",
    "        oechem.OEClearAromaticFlags(mol)\n",
    "        oechem.OEAssignAromaticFlags(mol, oechem.OEAroModelMDL)\n",
    "        oechem.OEAssignHybridization(mol)\n",
    "    \n",
    "    # make a substructure search object\n",
    "    qmol = oechem.OEQMol()\n",
    "    if not oechem.OEParseSmarts(qmol, subsearch):\n",
    "        print(\"FAILED to parse\")\n",
    "        break\n",
    "    ss = oechem.OESubSearch(qmol)\n",
    "    \n",
    "    #print(mol.GetTitle(), oechem.OEMolToSmiles(mol), ss.SingleMatch(mol))\n",
    "    \n",
    "    for match_idx, match in enumerate(ss.Match(mol, unique)):\n",
    "        # get indexed atoms (if they exist)\n",
    "        idx_dict = dict()\n",
    "        for ma in match.GetAtoms():\n",
    "            pat = ma.pattern.GetMapIdx()\n",
    "            if pat > 0:\n",
    "                idx_dict[pat] = ma.target.GetIdx()\n",
    "                \n",
    "        print(idx_dict)\n",
    "        # print(subsearch)\n",
    "        idx_atoms = [idx_dict[k] for k in sorted(idx_dict.keys())]\n",
    "        if save_file:\n",
    "            fn = file_formula % (smi_idx, match_idx)\n",
    "        else:\n",
    "            fn = None\n",
    "        img = depictMatch(mol,match,supH=not see_hydrogens, idx_atoms=idx_atoms, fn=fn)\n",
    "        display(Image(oedepict.OEWriteImageToString(\"png\",img)))"
   ]
  },
  {
   "cell_type": "code",
   "execution_count": 8,
   "metadata": {},
   "outputs": [],
   "source": [
    "img = depictMatch(mol,match,supH=not see_hydrogens, idx_atoms=idx_atoms, fn=\"/Users/bannanc/Desktop/test1.pdf\")"
   ]
  },
  {
   "cell_type": "code",
   "execution_count": null,
   "metadata": {},
   "outputs": [],
   "source": [
    "\n"
   ]
  },
  {
   "cell_type": "code",
   "execution_count": null,
   "metadata": {},
   "outputs": [],
   "source": [
    "img.width"
   ]
  }
 ],
 "metadata": {
  "kernelspec": {
   "display_name": "Python 3",
   "language": "python",
   "name": "python3"
  },
  "language_info": {
   "codemirror_mode": {
    "name": "ipython",
    "version": 3
   },
   "file_extension": ".py",
   "mimetype": "text/x-python",
   "name": "python",
   "nbconvert_exporter": "python",
   "pygments_lexer": "ipython3",
   "version": "3.6.7"
  }
 },
 "nbformat": 4,
 "nbformat_minor": 2
}
