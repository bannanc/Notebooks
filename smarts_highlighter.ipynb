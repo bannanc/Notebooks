{
 "cells": [
  {
   "cell_type": "markdown",
   "metadata": {},
   "source": [
    "# SMARTS/SMIRKS Highlighter\n",
    "\n",
    "This notebook was created to help with molecule visualization using substructure searches. \n",
    "You provide \n",
    "- a list of molecules (demonstrated here with SMILES strings, but you could set it up to read in a file)\n",
    "- a SMILES/SMARTS/SMIRKS you want to match to the molecule\n",
    "\n",
    "Then an image is created for every substructure in each molecule matched by that SMILES/SMARTS/SMIRKS.\n",
    "\n",
    "## What wil you see\n",
    "\n",
    "In an example, we decided to look for the SMIRKS `'[#6:1](=[#8])-[#8H1:2]'` which describes the single bond between the carbon and protonated oxygen in a carboxylic acid. In the visualization the atoms involved in the bond specified by the \"tagged\" atoms `:1` and `:2` will be cicled in blue. All atoms in the substructure, the two atoms in the bond and the double bond to the other oxygen will be highlighted in pink. \n",
    "\n",
    "In this example we answer the questions below as:\n",
    "\n",
    "1. `smiles = ['COC(=O)CC(=O)O']`\n",
    "2. `subsearch = '[#6:1](=[#8])-[#8H1:2]'`\n",
    "3. `see_hydrogens = False`\n",
    "4. There are no aromatic rings in this molecule so this an irrelevant setting here.\n",
    "5. `save_file = True` and `file_formula = \"images/COOH_example_%i_%i.png\"`\n",
    "\n",
    "Which results in this image:\n",
    "![title](images/COOH_example_0_0.png)\n",
    "\n",
    "**Import modules**"
   ]
  },
  {
   "cell_type": "code",
   "execution_count": 1,
   "metadata": {},
   "outputs": [],
   "source": [
    "from openeye import oechem\n",
    "import openeye.oedepict as oedepict\n",
    "import IPython\n",
    "from IPython.display import display, Image\n",
    "from openforcefield.utils import read_molecules"
   ]
  },
  {
   "cell_type": "markdown",
   "metadata": {},
   "source": [
    "## `DepictMatch`\n",
    "\n",
    "This is the actual function used for generating the molecul images"
   ]
  },
  {
   "cell_type": "code",
   "execution_count": 73,
   "metadata": {},
   "outputs": [],
   "source": [
    "def  depictMatch(mol, match, supH = True, idx_atoms=list(), width=500, height=200, fn=None):\n",
    "    \"\"\"\n",
    "    Parameters\n",
    "    ----------\n",
    "    mol: oemol\n",
    "    match: an oematch object generated during a substructure search\n",
    "        This match will be highlighted in Salmon color\n",
    "    supH: boolean (default = True)\n",
    "        suppress hydrogens, that is when True the hydrogens are not shown\n",
    "    idx_atoms: list (or list like) of atom indices\n",
    "        These are atom indices you also want indicated, they will have blue circles around the outside.\n",
    "        For example, you may want to provide the atoms \"tagged\" with a smirks index\n",
    "        If none provided then only the match object will be highlighted.\n",
    "    width: float (default = 500)\n",
    "    heigh: float (default = 200)\n",
    "    fn: path to image file (default = None)\n",
    "        if a path to an image file (i.e. png, pdf, jpeg) is provided then the image\n",
    "        returned by this function is also rendered into that file. \n",
    "        Note - this can be an absolute or relative path to the desired output.\n",
    "        When None no file is created.\n",
    "    \n",
    "    Returns\n",
    "    -------\n",
    "    img: OEImage\n",
    "        OEImages can be saved to image files (png, pdf, jpeg, etc) with:\n",
    "            oedepict.OEWriteImage('path/to/file', img)\n",
    "        or these can be rendered directly in a notebook with:\n",
    "            from IPython.display import display, Image\n",
    "            display(Image(oedepict.OEWriteImageToString(\"png\",img)))\n",
    "    \"\"\"\n",
    "    atom_bond_set = oechem.OEAtomBondSet()\n",
    "    for atom in mol.GetAtoms():\n",
    "        if atom.GetIdx() in idx_atoms:\n",
    "            atom_bond_set.AddAtom(atom)\n",
    "            for bond in atom.GetBonds():\n",
    "                nbr_atom = bond.GetNbr(atom)\n",
    "                if (nbr_atom.GetIdx() in idx_atoms) and nbr_atom.GetIdx() > atom.GetIdx():\n",
    "                    atom_bond_set.AddBond(bond)\n",
    "    \n",
    "    dopt = oedepict.OEPrepareDepictionOptions()\n",
    "    dopt.SetDepictOrientation( oedepict.OEDepictOrientation_Horizontal)\n",
    "    dopt.SetSuppressHydrogens(supH)\n",
    "    oedepict.OEPrepareDepiction(mol, dopt)\n",
    "    \n",
    "    opts = oedepict.OE2DMolDisplayOptions(width, height, oedepict.OEScale_AutoScale)\n",
    "    opts.SetAtomColorStyle(oedepict.OEAtomColorStyle_WhiteMonochrome)\n",
    "    disp = oedepict.OE2DMolDisplay(mol, opts)\n",
    "    \n",
    "    # Highlight indexed atoms\n",
    "    hstyle = oedepict.OEHighlightStyle_Cogwheel\n",
    "    hcolor = oechem.OEColor(oechem.OELightBlue)\n",
    "    if not atom_bond_set.IsEmpty():\n",
    "        oedepict.OEAddHighlighting(disp, hcolor, hstyle, atom_bond_set)\n",
    "    \n",
    "    # Highlight whole match\n",
    "    hstyle = oedepict.OEHighlightStyle_BallAndStick\n",
    "    hcolor = oechem.OEColor(oechem.OELightSalmon)\n",
    "    oedepict.OEAddHighlighting(disp, hcolor, hstyle, match)\n",
    "    \n",
    "    img = oedepict.OEImage(width, height)\n",
    "    oedepict.OERenderMolecule(img,disp)\n",
    "    \n",
    "    if fn is not None:\n",
    "        if not oedepict.OEWriteImage(fn, img):\n",
    "            print(\"OE could not write image to file %s\" % fn)\n",
    "    return img"
   ]
  },
  {
   "cell_type": "markdown",
   "metadata": {},
   "source": [
    "## 1. Create a list of molecules\n",
    "\n",
    "In the default this is done by allowing the user to specify SMILES and then created OEMols from those. If you would prefer to load molecules from a file you could do that instead. "
   ]
  },
  {
   "cell_type": "code",
   "execution_count": 74,
   "metadata": {},
   "outputs": [],
   "source": [
    "# start with a list of SMILES:\n",
    "smiles = ['COC(=O)CC(=O)O']\n",
    "mols = list()\n",
    "for s in smiles:\n",
    "    m = oechem.OEMol()\n",
    "    if oechem.OESmilesToMol(m, s):\n",
    "        oechem.OEAddExplicitHydrogens(m)\n",
    "        mols.append(oechem.OEMol(m))\n",
    "    else:\n",
    "        print(\"could not parse smiles: \", s)"
   ]
  },
  {
   "cell_type": "markdown",
   "metadata": {},
   "source": [
    "## 2. Chose a Substructure search string\n",
    "\n",
    "This can be a SMILES, SMARTS, or SMIRKS string. \n",
    "Note that if there are \"tagged\"  atoms in the SMARTS or SMIRKS, indicated with a `:n` in the atom, those atoms will be indicated in the images with a blue circle around the outside."
   ]
  },
  {
   "cell_type": "code",
   "execution_count": 75,
   "metadata": {},
   "outputs": [],
   "source": [
    "# write a string for your substructure search\n",
    "subsearch = '[#6:1](=[#8])-[#8H1:2]'"
   ]
  },
  {
   "cell_type": "markdown",
   "metadata": {},
   "source": [
    "## 3. Do you want to see all hydrogens in your image?\n",
    "\n",
    "Hydrogens on heteroatoms will always be shown. If you would like to see all hydrogens on carbons switch this to `True`. If you include hydrogens in your subsearch pattern, "
   ]
  },
  {
   "cell_type": "code",
   "execution_count": 76,
   "metadata": {},
   "outputs": [],
   "source": [
    "see_hydrogens = False"
   ]
  },
  {
   "cell_type": "markdown",
   "metadata": {},
   "source": [
    "## 4. Should we use the OpenEye MDL aromaticity model?\n",
    "\n",
    "The MDL aromaticity model is the one currently implemented by the [SMIRNOFF](https://github.com/openforcefield/openforcefield/blob/master/The-SMIRNOFF-force-field-format.md) force fields for a complete descriptio of this model see the corresponding [OpenEye Documentation](https://docs.eyesopen.com/toolkits/python/oechemtk/aromaticity.html#section-aromaticity-models)"
   ]
  },
  {
   "cell_type": "code",
   "execution_count": 77,
   "metadata": {},
   "outputs": [],
   "source": [
    "mdl = False"
   ]
  },
  {
   "cell_type": "markdown",
   "metadata": {},
   "source": [
    "## 5. Save output to file\n",
    "\n",
    "If you would like your images saved to an image file (`png`, `pdf`, etc.) you can specify a path to that file with two `%i` symbols. The first number is filled in with the SMILES index, the second with the match index. \n",
    "\n",
    "If you do not want your matches saved to a file then set `save_file = False`"
   ]
  },
  {
   "cell_type": "code",
   "execution_count": 78,
   "metadata": {},
   "outputs": [],
   "source": [
    "save_file = True\n",
    "if save_file:\n",
    "    file_formula = \"images/COOH_example_%i_%i.png\""
   ]
  },
  {
   "cell_type": "markdown",
   "metadata": {},
   "source": [
    "### Search each molecule for the pattern"
   ]
  },
  {
   "cell_type": "code",
   "execution_count": 79,
   "metadata": {
    "scrolled": false
   },
   "outputs": [
    {
     "name": "stdout",
     "output_type": "stream",
     "text": [
      "COC(=O)CC(=O)O True\n",
      "{1: 5, 2: 7}\n"
     ]
    },
    {
     "data": {
      "image/png": "[encoded data removed]",
      "text/plain": [
       "<IPython.core.display.Image object>"
      ]
     },
     "metadata": {},
     "output_type": "display_data"
    }
   ],
   "source": [
    "unique = False\n",
    "for smi_idx, mol in enumerate(mols):\n",
    "    if mdl:\n",
    "        oechem.OEClearAromaticFlags(mol)\n",
    "        oechem.OEAssignAromaticFlags(mol, oechem.OEAroModelMDL)\n",
    "        oechem.OEAssignHybridization(mol)\n",
    "    \n",
    "    # make a substructure search object\n",
    "    qmol = oechem.OEQMol()\n",
    "    if not oechem.OEParseSmarts(qmol, subsearch):\n",
    "        print(\"FAILED to parse\")\n",
    "        break\n",
    "    ss = oechem.OESubSearch(qmol)\n",
    "    \n",
    "    print(oechem.OEMolToSmiles(mol), ss.SingleMatch(mol))\n",
    "    \n",
    "    for match_idx, match in enumerate(ss.Match(mol, unique)):\n",
    "        # get indexed atoms (if they exist)\n",
    "        idx_dict = dict()\n",
    "        for ma in match.GetAtoms():\n",
    "            pat = ma.pattern.GetMapIdx()\n",
    "            if pat > 0:\n",
    "                idx_dict[pat] = ma.target.GetIdx()\n",
    "                \n",
    "        print(idx_dict)\n",
    "        # print(subsearch)\n",
    "        idx_atoms = [idx_dict[k] for k in sorted(idx_dict.keys())]\n",
    "        if save_file:\n",
    "            fn = file_formula % (smi_idx, match_idx)\n",
    "        else:\n",
    "            fn = None\n",
    "        img = depictMatch(mol,match,supH=not see_hydrogens, idx_atoms=idx_atoms, fn=fn)\n",
    "        display(Image(oedepict.OEWriteImageToString(\"png\",img)))"
   ]
  },
  {
   "cell_type": "code",
   "execution_count": null,
   "metadata": {},
   "outputs": [],
   "source": []
  },
  {
   "cell_type": "code",
   "execution_count": null,
   "metadata": {},
   "outputs": [],
   "source": []
  }
 ],
 "metadata": {
  "kernelspec": {
   "display_name": "Python 3",
   "language": "python",
   "name": "python3"
  },
  "language_info": {
   "codemirror_mode": {
    "name": "ipython",
    "version": 3
   },
   "file_extension": ".py",
   "mimetype": "text/x-python",
   "name": "python",
   "nbconvert_exporter": "python",
   "pygments_lexer": "ipython3",
   "version": "3.6.7"
  }
 },
 "nbformat": 4,
 "nbformat_minor": 2
}
